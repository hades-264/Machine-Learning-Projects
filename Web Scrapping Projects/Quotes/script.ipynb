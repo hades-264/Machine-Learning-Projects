{
 "cells": [
  {
   "cell_type": "code",
   "execution_count": 2,
   "metadata": {},
   "outputs": [],
   "source": [
    "from bs4 import BeautifulSoup\n",
    "import requests\n",
    "\n",
    "url=\"https://www.goodreads.com/quotes/tag/love\"\n",
    "def get_quotes(url):\n",
    "    \n",
    "    res=requests.get(url)\n",
    "    \n",
    "    soup=BeautifulSoup(res.text)\n",
    "    \n",
    "    quote_divs=soup.findAll(\"div\",attrs={\"class\":\"quote\"})\n",
    "    \n",
    "    quotes=[]\n",
    "    for quote_div in quote_divs:\n",
    "        \n",
    "        quoteText_div=quote_div.find_next(\"div\",attrs={\"class\":\"quoteText\"})\n",
    "        \n",
    "        striped=quoteText_div.text.strip()\n",
    "        \n",
    "        split_li=striped.split(\"\\n\")\n",
    "        \n",
    "        quote=split_li[0][1:-1]\n",
    "        author=split_li[-1].strip()\n",
    "        \n",
    "        left_div=quote_div.find_next(\"div\",attrs={\"class\":\"left\"})\n",
    "        tags=[tag.text for tag in left_div.find_all(\"a\")]\n",
    "        \n",
    "        quote_item={\n",
    "            \"text\":quote,\n",
    "            \"author\":author,\n",
    "            \"tag\":tags\n",
    "        }\n",
    "        quotes.append(quote_item)\n",
    "    return quotes\n"
   ]
  },
  {
   "cell_type": "code",
   "execution_count": 3,
   "metadata": {},
   "outputs": [
    {
     "name": "stdout",
     "output_type": "stream",
     "text": [
      "processed 0\n",
      "processed 1\n",
      "processed 2\n",
      "processed 3\n",
      "processed 4\n",
      "processed 5\n"
     ]
    }
   ],
   "source": [
    "total=[]\n",
    "for i in range(6):\n",
    "    total.extend(get_quotes(url))\n",
    "    print(\"processed\",i)"
   ]
  },
  {
   "cell_type": "code",
   "execution_count": 6,
   "metadata": {},
   "outputs": [
    {
     "data": {
      "text/plain": [
       "180"
      ]
     },
     "execution_count": 6,
     "metadata": {},
     "output_type": "execute_result"
    }
   ],
   "source": [
    "len(total)"
   ]
  },
  {
   "cell_type": "code",
   "execution_count": 7,
   "metadata": {},
   "outputs": [],
   "source": [
    "import pandas as pd"
   ]
  },
  {
   "cell_type": "code",
   "execution_count": 9,
   "metadata": {},
   "outputs": [],
   "source": [
    "df=pd.DataFrame(total)"
   ]
  },
  {
   "cell_type": "code",
   "execution_count": null,
   "metadata": {},
   "outputs": [],
   "source": [
    "df.to_csv"
   ]
  },
  {
   "cell_type": "code",
   "execution_count": null,
   "metadata": {},
   "outputs": [],
   "source": []
  },
  {
   "cell_type": "code",
   "execution_count": null,
   "metadata": {},
   "outputs": [],
   "source": []
  }
 ],
 "metadata": {
  "kernelspec": {
   "display_name": "Python 3",
   "language": "python",
   "name": "python3"
  },
  "language_info": {
   "codemirror_mode": {
    "name": "ipython",
    "version": 3
   },
   "file_extension": ".py",
   "mimetype": "text/x-python",
   "name": "python",
   "nbconvert_exporter": "python",
   "pygments_lexer": "ipython3",
   "version": "3.8.3"
  }
 },
 "nbformat": 4,
 "nbformat_minor": 4
}
